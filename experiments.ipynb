{
 "metadata": {
  "language_info": {
   "codemirror_mode": {
    "name": "ipython",
    "version": 3
   },
   "file_extension": ".py",
   "mimetype": "text/x-python",
   "name": "python",
   "nbconvert_exporter": "python",
   "pygments_lexer": "ipython3",
   "version": "3.8.8-final"
  },
  "orig_nbformat": 2,
  "kernelspec": {
   "name": "python3",
   "display_name": "Python 3",
   "language": "python"
  }
 },
 "nbformat": 4,
 "nbformat_minor": 2,
 "cells": [
  {
   "cell_type": "code",
   "execution_count": 1,
   "metadata": {},
   "outputs": [],
   "source": [
    "%matplotlib inline\n",
    "\n",
    "import numpy as np\n",
    "import matplotlib.pyplot as plt\n",
    "import pandas as pd\n",
    "from loading import load_data, load_test\n",
    "from preprocessing import preprocess"
   ]
  },
  {
   "cell_type": "code",
   "execution_count": 2,
   "metadata": {},
   "outputs": [],
   "source": [
    "#variable name convention: data = train + validation\n",
    "data_x_orig, data_y_orig = load_data() # loads from \".\\data\" by default\n",
    "test_x_orig = load_test()"
   ]
  },
  {
   "cell_type": "code",
   "execution_count": 3,
   "metadata": {},
   "outputs": [
    {
     "output_type": "execute_result",
     "data": {
      "text/plain": [
       "               OMR       OTR\n",
       "Index                       \n",
       "1        12.500000  2.272727\n",
       "2        21.571429  1.696629\n",
       "3       118.250000  1.482759\n",
       "4        29.000000  1.705882\n",
       "5              NaN  1.517730\n",
       "...            ...       ...\n",
       "105778         NaN  1.150000\n",
       "105779         NaN  1.352941\n",
       "105780         NaN  1.146667\n",
       "105781         NaN  1.179191\n",
       "105782         NaN  1.178571\n",
       "\n",
       "[105782 rows x 2 columns]"
      ],
      "text/html": "<div>\n<style scoped>\n    .dataframe tbody tr th:only-of-type {\n        vertical-align: middle;\n    }\n\n    .dataframe tbody tr th {\n        vertical-align: top;\n    }\n\n    .dataframe thead th {\n        text-align: right;\n    }\n</style>\n<table border=\"1\" class=\"dataframe\">\n  <thead>\n    <tr style=\"text-align: right;\">\n      <th></th>\n      <th>OMR</th>\n      <th>OTR</th>\n    </tr>\n    <tr>\n      <th>Index</th>\n      <th></th>\n      <th></th>\n    </tr>\n  </thead>\n  <tbody>\n    <tr>\n      <th>1</th>\n      <td>12.500000</td>\n      <td>2.272727</td>\n    </tr>\n    <tr>\n      <th>2</th>\n      <td>21.571429</td>\n      <td>1.696629</td>\n    </tr>\n    <tr>\n      <th>3</th>\n      <td>118.250000</td>\n      <td>1.482759</td>\n    </tr>\n    <tr>\n      <th>4</th>\n      <td>29.000000</td>\n      <td>1.705882</td>\n    </tr>\n    <tr>\n      <th>5</th>\n      <td>NaN</td>\n      <td>1.517730</td>\n    </tr>\n    <tr>\n      <th>...</th>\n      <td>...</td>\n      <td>...</td>\n    </tr>\n    <tr>\n      <th>105778</th>\n      <td>NaN</td>\n      <td>1.150000</td>\n    </tr>\n    <tr>\n      <th>105779</th>\n      <td>NaN</td>\n      <td>1.352941</td>\n    </tr>\n    <tr>\n      <th>105780</th>\n      <td>NaN</td>\n      <td>1.146667</td>\n    </tr>\n    <tr>\n      <th>105781</th>\n      <td>NaN</td>\n      <td>1.179191</td>\n    </tr>\n    <tr>\n      <th>105782</th>\n      <td>NaN</td>\n      <td>1.178571</td>\n    </tr>\n  </tbody>\n</table>\n<p>105782 rows × 2 columns</p>\n</div>"
     },
     "metadata": {},
     "execution_count": 3
    }
   ],
   "source": [
    "data_x_orig.loc[:,['OMR','OTR']]"
   ]
  },
  {
   "cell_type": "code",
   "execution_count": 4,
   "metadata": {},
   "outputs": [],
   "source": [
    "data_x = preprocess(data_x_orig)"
   ]
  },
  {
   "cell_type": "code",
   "execution_count": 23,
   "metadata": {},
   "outputs": [
    {
     "output_type": "execute_result",
     "data": {
      "text/plain": [
       "IOMR    0.998044\n",
       "IOCR    0.500000\n",
       "IOTR    0.957447\n",
       "dtype: float64"
      ]
     },
     "metadata": {},
     "execution_count": 23
    }
   ],
   "source": [
    "data_x[['IOMR', 'IOCR', 'IOTR']].max()"
   ]
  },
  {
   "cell_type": "code",
   "execution_count": 18,
   "metadata": {},
   "outputs": [
    {
     "output_type": "execute_result",
     "data": {
      "text/plain": [
       "Share                              Isin_51\n",
       "Day                                Date_26\n",
       "Trader                          Trader_424\n",
       "min_time_two_events                    0.0\n",
       "mean_time_two_events          19009.971992\n",
       "10_p_time_two_events                   0.0\n",
       "med_time_two_events              16768.102\n",
       "25_p_time_two_events              52.07928\n",
       "75_p_time_two_events             37487.293\n",
       "90_p_time_two_events              37487.54\n",
       "max_time_two_events               37487.54\n",
       "min_lifetime_cancel               14657.65\n",
       "mean_lifetime_cancel          15712.875977\n",
       "10_p_lifetime_cancel              14657.65\n",
       "med_lifetime_cancel               14657.65\n",
       "25_p_lifetime_cancel              14657.65\n",
       "75_p_lifetime_cancel             16768.102\n",
       "90_p_lifetime_cancel             16768.102\n",
       "max_lifetime_cancel              16768.102\n",
       "NbTradeVenueMic                          2\n",
       "MaxNbTradesBySecond                      1\n",
       "MeanNbTradesBySecond                   1.0\n",
       "min_dt_TV1                      537.964276\n",
       "mean_dt_TV1                    2415.955502\n",
       "med_dt_TV1                      1128.34077\n",
       "min_dt_TV1_TV2                  5581.56146\n",
       "mean_dt_TV1_TV2                 5581.56146\n",
       "med_dt_TV1_TV2                  5581.56146\n",
       "min_dt_TV1_TV3                  5581.56146\n",
       "mean_dt_TV1_TV3                 5581.56146\n",
       "med_dt_TV1_TV3                  5581.56146\n",
       "min_dt_TV1_TV4                  5581.56146\n",
       "mean_dt_TV1_TV4                 5581.56146\n",
       "med_dt_TV1_TV4                  5581.56146\n",
       "NbSecondWithAtLeatOneTrade               4\n",
       "IOMR                               0.03125\n",
       "IOCR                                0.0625\n",
       "IOTR                               0.09375\n",
       "Name: 88185, dtype: object"
      ]
     },
     "metadata": {},
     "execution_count": 18
    }
   ],
   "source": [
    "\n",
    "data_x.loc[min_invert]"
   ]
  },
  {
   "cell_type": "code",
   "execution_count": 16,
   "metadata": {},
   "outputs": [],
   "source": [
    "data_x = data_x_orig.copy()\n",
    "ratio_cols = ['OMR', 'OCR', 'OTR']\n",
    "inverted_ratio_cols = ['I' + s for s in ratio_cols]\n",
    "\n",
    "data_x.drop(ratio_cols, axis = \"columns\", inplace=True)\n",
    "data_x.loc[:, inverted_ratio_cols] = 1/data_x_orig.loc[:, ratio_cols]\n",
    "data_x.loc[:, inverted_ratio_cols].fillna(0, inplace=True)"
   ]
  },
  {
   "cell_type": "code",
   "execution_count": 20,
   "metadata": {},
   "outputs": [],
   "source": [
    "\n",
    "data_x.loc[:, inverted_ratio_cols] = 1/data_x_orig.loc[:, ratio_cols]"
   ]
  },
  {
   "cell_type": "code",
   "execution_count": 24,
   "metadata": {},
   "outputs": [
    {
     "output_type": "execute_result",
     "data": {
      "text/plain": [
       "            IOMR      IOCR      IOTR\n",
       "Index                               \n",
       "1       0.080000  0.120000  0.440000\n",
       "2       0.046358  0.039735  0.589404\n",
       "3       0.008457  0.021142  0.674419\n",
       "4       0.034483  0.068966  0.586207\n",
       "5            NaN  0.037383  0.658879\n",
       "...          ...       ...       ...\n",
       "105778       NaN  0.043478  0.869565\n",
       "105779       NaN  0.043478  0.739130\n",
       "105780       NaN  0.011628  0.872093\n",
       "105781       NaN  0.004902  0.848039\n",
       "105782       NaN  0.015152  0.848485\n",
       "\n",
       "[105782 rows x 3 columns]"
      ],
      "text/html": "<div>\n<style scoped>\n    .dataframe tbody tr th:only-of-type {\n        vertical-align: middle;\n    }\n\n    .dataframe tbody tr th {\n        vertical-align: top;\n    }\n\n    .dataframe thead th {\n        text-align: right;\n    }\n</style>\n<table border=\"1\" class=\"dataframe\">\n  <thead>\n    <tr style=\"text-align: right;\">\n      <th></th>\n      <th>IOMR</th>\n      <th>IOCR</th>\n      <th>IOTR</th>\n    </tr>\n    <tr>\n      <th>Index</th>\n      <th></th>\n      <th></th>\n      <th></th>\n    </tr>\n  </thead>\n  <tbody>\n    <tr>\n      <th>1</th>\n      <td>0.080000</td>\n      <td>0.120000</td>\n      <td>0.440000</td>\n    </tr>\n    <tr>\n      <th>2</th>\n      <td>0.046358</td>\n      <td>0.039735</td>\n      <td>0.589404</td>\n    </tr>\n    <tr>\n      <th>3</th>\n      <td>0.008457</td>\n      <td>0.021142</td>\n      <td>0.674419</td>\n    </tr>\n    <tr>\n      <th>4</th>\n      <td>0.034483</td>\n      <td>0.068966</td>\n      <td>0.586207</td>\n    </tr>\n    <tr>\n      <th>5</th>\n      <td>NaN</td>\n      <td>0.037383</td>\n      <td>0.658879</td>\n    </tr>\n    <tr>\n      <th>...</th>\n      <td>...</td>\n      <td>...</td>\n      <td>...</td>\n    </tr>\n    <tr>\n      <th>105778</th>\n      <td>NaN</td>\n      <td>0.043478</td>\n      <td>0.869565</td>\n    </tr>\n    <tr>\n      <th>105779</th>\n      <td>NaN</td>\n      <td>0.043478</td>\n      <td>0.739130</td>\n    </tr>\n    <tr>\n      <th>105780</th>\n      <td>NaN</td>\n      <td>0.011628</td>\n      <td>0.872093</td>\n    </tr>\n    <tr>\n      <th>105781</th>\n      <td>NaN</td>\n      <td>0.004902</td>\n      <td>0.848039</td>\n    </tr>\n    <tr>\n      <th>105782</th>\n      <td>NaN</td>\n      <td>0.015152</td>\n      <td>0.848485</td>\n    </tr>\n  </tbody>\n</table>\n<p>105782 rows × 3 columns</p>\n</div>"
     },
     "metadata": {},
     "execution_count": 24
    }
   ],
   "source": [
    "\n",
    "data_x[inverted_ratio_cols]"
   ]
  },
  {
   "cell_type": "code",
   "execution_count": null,
   "metadata": {},
   "outputs": [],
   "source": [
    "data_x.loc[:, ['OMR','OTR']].fillna(0)"
   ]
  },
  {
   "cell_type": "code",
   "execution_count": null,
   "metadata": {},
   "outputs": [],
   "source": [
    "s = data_x.isna().sum()/data_x.count()\n",
    "s[data_x.isna().any()].sort_values(ascending=False)"
   ]
  },
  {
   "cell_type": "code",
   "execution_count": null,
   "metadata": {},
   "outputs": [],
   "source": [
    "from sklearn.model_selection import GroupKFold\n",
    "\n",
    "X = [0.1, 0.2, 2.2, 2.4, 2.3, 4.55, 5.8, 8.8, 9, 10]\n",
    "y = [\"a\", \"b\", \"b\", \"b\", \"c\", \"c\", \"c\", \"d\", \"d\", \"d\"]\n",
    "groups = [1, 1, 1, 2, 2, 2, 3, 3, 3, 3]\n",
    "\n",
    "gkf = GroupKFold(n_splits=3)\n",
    "for train, test in gkf.split(X, y, groups=groups):\n",
    "    print(\"%s %s\" % (train, test))\n"
   ]
  }
 ]
}