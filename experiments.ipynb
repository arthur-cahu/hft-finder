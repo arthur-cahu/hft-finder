{
 "metadata": {
  "language_info": {
   "codemirror_mode": {
    "name": "ipython",
    "version": 3
   },
   "file_extension": ".py",
   "mimetype": "text/x-python",
   "name": "python",
   "nbconvert_exporter": "python",
   "pygments_lexer": "ipython3",
   "version": "3.7.4-final"
  },
  "orig_nbformat": 2,
  "kernelspec": {
   "name": "python3",
   "display_name": "Python 3",
   "language": "python"
  }
 },
 "nbformat": 4,
 "nbformat_minor": 2,
 "cells": [
  {
   "cell_type": "code",
   "execution_count": 1,
   "metadata": {},
   "outputs": [],
   "source": [
    "%matplotlib inline\n",
    "\n",
    "import numpy as np\n",
    "import matplotlib.pyplot as plt\n",
    "import pandas as pd\n",
    "from loading import load_data, load_test"
   ]
  },
  {
   "cell_type": "code",
   "execution_count": 21,
   "metadata": {},
   "outputs": [],
   "source": [
    "#variable name convention: data = train + validation\n",
    "data_x, data_y = load_data() # loads from \".\\data\" by default\n",
    "test_x = load_test()"
   ]
  },
  {
   "cell_type": "code",
   "execution_count": 24,
   "metadata": {},
   "outputs": [
    {
     "output_type": "execute_result",
     "data": {
      "text/plain": [
       "               OMR       OTR\n",
       "Index                       \n",
       "1        12.500000  2.272727\n",
       "2        21.571429  1.696629\n",
       "3       118.250000  1.482759\n",
       "4        29.000000  1.705882\n",
       "5              NaN  1.517730\n",
       "...            ...       ...\n",
       "105778         NaN  1.150000\n",
       "105779         NaN  1.352941\n",
       "105780         NaN  1.146667\n",
       "105781         NaN  1.179191\n",
       "105782         NaN  1.178571\n",
       "\n",
       "[105782 rows x 2 columns]"
      ],
      "text/html": "<div>\n<style scoped>\n    .dataframe tbody tr th:only-of-type {\n        vertical-align: middle;\n    }\n\n    .dataframe tbody tr th {\n        vertical-align: top;\n    }\n\n    .dataframe thead th {\n        text-align: right;\n    }\n</style>\n<table border=\"1\" class=\"dataframe\">\n  <thead>\n    <tr style=\"text-align: right;\">\n      <th></th>\n      <th>OMR</th>\n      <th>OTR</th>\n    </tr>\n    <tr>\n      <th>Index</th>\n      <th></th>\n      <th></th>\n    </tr>\n  </thead>\n  <tbody>\n    <tr>\n      <td>1</td>\n      <td>12.500000</td>\n      <td>2.272727</td>\n    </tr>\n    <tr>\n      <td>2</td>\n      <td>21.571429</td>\n      <td>1.696629</td>\n    </tr>\n    <tr>\n      <td>3</td>\n      <td>118.250000</td>\n      <td>1.482759</td>\n    </tr>\n    <tr>\n      <td>4</td>\n      <td>29.000000</td>\n      <td>1.705882</td>\n    </tr>\n    <tr>\n      <td>5</td>\n      <td>NaN</td>\n      <td>1.517730</td>\n    </tr>\n    <tr>\n      <td>...</td>\n      <td>...</td>\n      <td>...</td>\n    </tr>\n    <tr>\n      <td>105778</td>\n      <td>NaN</td>\n      <td>1.150000</td>\n    </tr>\n    <tr>\n      <td>105779</td>\n      <td>NaN</td>\n      <td>1.352941</td>\n    </tr>\n    <tr>\n      <td>105780</td>\n      <td>NaN</td>\n      <td>1.146667</td>\n    </tr>\n    <tr>\n      <td>105781</td>\n      <td>NaN</td>\n      <td>1.179191</td>\n    </tr>\n    <tr>\n      <td>105782</td>\n      <td>NaN</td>\n      <td>1.178571</td>\n    </tr>\n  </tbody>\n</table>\n<p>105782 rows × 2 columns</p>\n</div>"
     },
     "metadata": {},
     "execution_count": 24
    }
   ],
   "source": [
    "data_x.loc[:,['OMR','OTR']]"
   ]
  },
  {
   "cell_type": "code",
   "execution_count": 29,
   "metadata": {},
   "outputs": [
    {
     "output_type": "execute_result",
     "data": {
      "text/plain": [
       "           Share      Day     Trader       OTR         OCR         OMR  \\\n",
       "Index                                                                    \n",
       "1         Isin_8  Date_24  Trader_10  2.272727    8.333333   12.500000   \n",
       "2        Isin_87  Date_29  Trader_10  1.696629   25.166667   21.571429   \n",
       "3        Isin_87  Date_23  Trader_10  1.482759   47.300000  118.250000   \n",
       "4        Isin_12  Date_11  Trader_10  1.705882   14.500000   29.000000   \n",
       "5        Isin_87   Date_9  Trader_10  1.517730   26.750000         NaN   \n",
       "...          ...      ...        ...       ...         ...         ...   \n",
       "105778   Isin_84  Date_27  Trader_60  1.150000   23.000000         NaN   \n",
       "105779  Isin_102  Date_18  Trader_60  1.352941   23.000000         NaN   \n",
       "105780   Isin_12  Date_13  Trader_60  1.146667   86.000000         NaN   \n",
       "105781   Isin_27  Date_30  Trader_60  1.179191  204.000000         NaN   \n",
       "105782   Isin_47  Date_12  Trader_60  1.178571   66.000000         NaN   \n",
       "\n",
       "        min_time_two_events  mean_time_two_events  10_p_time_two_events  \\\n",
       "Index                                                                     \n",
       "1                       0.0           5117.830300              0.000000   \n",
       "2                       0.0           1846.968401              0.000074   \n",
       "3                       0.0            686.300630              0.000071   \n",
       "4                       0.0           2174.335265              0.000000   \n",
       "5                       0.0            944.008551              0.000071   \n",
       "...                     ...                   ...                   ...   \n",
       "105778                  0.0            736.500080              0.000000   \n",
       "105779                  0.0             63.672695              0.000000   \n",
       "105780                  0.0            708.440816              0.000000   \n",
       "105781                  0.0            384.893976              0.000000   \n",
       "105782                  0.0            122.636320              0.000000   \n",
       "\n",
       "        med_time_two_events  ...  min_dt_TV1_TV2  mean_dt_TV1_TV2  \\\n",
       "Index                        ...                                    \n",
       "1                419.688500  ...             NaN              NaN   \n",
       "2                  0.003374  ...             NaN              NaN   \n",
       "3                  0.000599  ...             NaN              NaN   \n",
       "4                  6.152666  ...             NaN              NaN   \n",
       "5                  0.001364  ...             NaN              NaN   \n",
       "...                     ...  ...             ...              ...   \n",
       "105778             0.000188  ...             NaN              NaN   \n",
       "105779             0.000963  ...             NaN              NaN   \n",
       "105780             0.000578  ...             NaN              NaN   \n",
       "105781             0.000536  ...             NaN              NaN   \n",
       "105782             0.000689  ...             NaN              NaN   \n",
       "\n",
       "        med_dt_TV1_TV2  min_dt_TV1_TV3  mean_dt_TV1_TV3  med_dt_TV1_TV3  \\\n",
       "Index                                                                     \n",
       "1                  NaN             NaN              NaN             NaN   \n",
       "2                  NaN             NaN              NaN             NaN   \n",
       "3                  NaN             NaN              NaN             NaN   \n",
       "4                  NaN             NaN              NaN             NaN   \n",
       "5                  NaN             NaN              NaN             NaN   \n",
       "...                ...             ...              ...             ...   \n",
       "105778             NaN             NaN              NaN             NaN   \n",
       "105779             NaN             NaN              NaN             NaN   \n",
       "105780             NaN             NaN              NaN             NaN   \n",
       "105781             NaN             NaN              NaN             NaN   \n",
       "105782             NaN             NaN              NaN             NaN   \n",
       "\n",
       "        min_dt_TV1_TV4  mean_dt_TV1_TV4  med_dt_TV1_TV4  \\\n",
       "Index                                                     \n",
       "1                  NaN              NaN             NaN   \n",
       "2                  NaN              NaN             NaN   \n",
       "3                  NaN              NaN             NaN   \n",
       "4                  NaN              NaN             NaN   \n",
       "5                  NaN              NaN             NaN   \n",
       "...                ...              ...             ...   \n",
       "105778             NaN              NaN             NaN   \n",
       "105779             NaN              NaN             NaN   \n",
       "105780             NaN              NaN             NaN   \n",
       "105781             NaN              NaN             NaN   \n",
       "105782             NaN              NaN             NaN   \n",
       "\n",
       "        NbSecondWithAtLeatOneTrade  \n",
       "Index                               \n",
       "1                                4  \n",
       "2                               15  \n",
       "3                               63  \n",
       "4                                4  \n",
       "5                               38  \n",
       "...                            ...  \n",
       "105778                           3  \n",
       "105779                           7  \n",
       "105780                          16  \n",
       "105781                          35  \n",
       "105782                           9  \n",
       "\n",
       "[105782 rows x 38 columns]"
      ],
      "text/html": "<div>\n<style scoped>\n    .dataframe tbody tr th:only-of-type {\n        vertical-align: middle;\n    }\n\n    .dataframe tbody tr th {\n        vertical-align: top;\n    }\n\n    .dataframe thead th {\n        text-align: right;\n    }\n</style>\n<table border=\"1\" class=\"dataframe\">\n  <thead>\n    <tr style=\"text-align: right;\">\n      <th></th>\n      <th>Share</th>\n      <th>Day</th>\n      <th>Trader</th>\n      <th>OTR</th>\n      <th>OCR</th>\n      <th>OMR</th>\n      <th>min_time_two_events</th>\n      <th>mean_time_two_events</th>\n      <th>10_p_time_two_events</th>\n      <th>med_time_two_events</th>\n      <th>...</th>\n      <th>min_dt_TV1_TV2</th>\n      <th>mean_dt_TV1_TV2</th>\n      <th>med_dt_TV1_TV2</th>\n      <th>min_dt_TV1_TV3</th>\n      <th>mean_dt_TV1_TV3</th>\n      <th>med_dt_TV1_TV3</th>\n      <th>min_dt_TV1_TV4</th>\n      <th>mean_dt_TV1_TV4</th>\n      <th>med_dt_TV1_TV4</th>\n      <th>NbSecondWithAtLeatOneTrade</th>\n    </tr>\n    <tr>\n      <th>Index</th>\n      <th></th>\n      <th></th>\n      <th></th>\n      <th></th>\n      <th></th>\n      <th></th>\n      <th></th>\n      <th></th>\n      <th></th>\n      <th></th>\n      <th></th>\n      <th></th>\n      <th></th>\n      <th></th>\n      <th></th>\n      <th></th>\n      <th></th>\n      <th></th>\n      <th></th>\n      <th></th>\n      <th></th>\n    </tr>\n  </thead>\n  <tbody>\n    <tr>\n      <td>1</td>\n      <td>Isin_8</td>\n      <td>Date_24</td>\n      <td>Trader_10</td>\n      <td>2.272727</td>\n      <td>8.333333</td>\n      <td>12.500000</td>\n      <td>0.0</td>\n      <td>5117.830300</td>\n      <td>0.000000</td>\n      <td>419.688500</td>\n      <td>...</td>\n      <td>NaN</td>\n      <td>NaN</td>\n      <td>NaN</td>\n      <td>NaN</td>\n      <td>NaN</td>\n      <td>NaN</td>\n      <td>NaN</td>\n      <td>NaN</td>\n      <td>NaN</td>\n      <td>4</td>\n    </tr>\n    <tr>\n      <td>2</td>\n      <td>Isin_87</td>\n      <td>Date_29</td>\n      <td>Trader_10</td>\n      <td>1.696629</td>\n      <td>25.166667</td>\n      <td>21.571429</td>\n      <td>0.0</td>\n      <td>1846.968401</td>\n      <td>0.000074</td>\n      <td>0.003374</td>\n      <td>...</td>\n      <td>NaN</td>\n      <td>NaN</td>\n      <td>NaN</td>\n      <td>NaN</td>\n      <td>NaN</td>\n      <td>NaN</td>\n      <td>NaN</td>\n      <td>NaN</td>\n      <td>NaN</td>\n      <td>15</td>\n    </tr>\n    <tr>\n      <td>3</td>\n      <td>Isin_87</td>\n      <td>Date_23</td>\n      <td>Trader_10</td>\n      <td>1.482759</td>\n      <td>47.300000</td>\n      <td>118.250000</td>\n      <td>0.0</td>\n      <td>686.300630</td>\n      <td>0.000071</td>\n      <td>0.000599</td>\n      <td>...</td>\n      <td>NaN</td>\n      <td>NaN</td>\n      <td>NaN</td>\n      <td>NaN</td>\n      <td>NaN</td>\n      <td>NaN</td>\n      <td>NaN</td>\n      <td>NaN</td>\n      <td>NaN</td>\n      <td>63</td>\n    </tr>\n    <tr>\n      <td>4</td>\n      <td>Isin_12</td>\n      <td>Date_11</td>\n      <td>Trader_10</td>\n      <td>1.705882</td>\n      <td>14.500000</td>\n      <td>29.000000</td>\n      <td>0.0</td>\n      <td>2174.335265</td>\n      <td>0.000000</td>\n      <td>6.152666</td>\n      <td>...</td>\n      <td>NaN</td>\n      <td>NaN</td>\n      <td>NaN</td>\n      <td>NaN</td>\n      <td>NaN</td>\n      <td>NaN</td>\n      <td>NaN</td>\n      <td>NaN</td>\n      <td>NaN</td>\n      <td>4</td>\n    </tr>\n    <tr>\n      <td>5</td>\n      <td>Isin_87</td>\n      <td>Date_9</td>\n      <td>Trader_10</td>\n      <td>1.517730</td>\n      <td>26.750000</td>\n      <td>NaN</td>\n      <td>0.0</td>\n      <td>944.008551</td>\n      <td>0.000071</td>\n      <td>0.001364</td>\n      <td>...</td>\n      <td>NaN</td>\n      <td>NaN</td>\n      <td>NaN</td>\n      <td>NaN</td>\n      <td>NaN</td>\n      <td>NaN</td>\n      <td>NaN</td>\n      <td>NaN</td>\n      <td>NaN</td>\n      <td>38</td>\n    </tr>\n    <tr>\n      <td>...</td>\n      <td>...</td>\n      <td>...</td>\n      <td>...</td>\n      <td>...</td>\n      <td>...</td>\n      <td>...</td>\n      <td>...</td>\n      <td>...</td>\n      <td>...</td>\n      <td>...</td>\n      <td>...</td>\n      <td>...</td>\n      <td>...</td>\n      <td>...</td>\n      <td>...</td>\n      <td>...</td>\n      <td>...</td>\n      <td>...</td>\n      <td>...</td>\n      <td>...</td>\n      <td>...</td>\n    </tr>\n    <tr>\n      <td>105778</td>\n      <td>Isin_84</td>\n      <td>Date_27</td>\n      <td>Trader_60</td>\n      <td>1.150000</td>\n      <td>23.000000</td>\n      <td>NaN</td>\n      <td>0.0</td>\n      <td>736.500080</td>\n      <td>0.000000</td>\n      <td>0.000188</td>\n      <td>...</td>\n      <td>NaN</td>\n      <td>NaN</td>\n      <td>NaN</td>\n      <td>NaN</td>\n      <td>NaN</td>\n      <td>NaN</td>\n      <td>NaN</td>\n      <td>NaN</td>\n      <td>NaN</td>\n      <td>3</td>\n    </tr>\n    <tr>\n      <td>105779</td>\n      <td>Isin_102</td>\n      <td>Date_18</td>\n      <td>Trader_60</td>\n      <td>1.352941</td>\n      <td>23.000000</td>\n      <td>NaN</td>\n      <td>0.0</td>\n      <td>63.672695</td>\n      <td>0.000000</td>\n      <td>0.000963</td>\n      <td>...</td>\n      <td>NaN</td>\n      <td>NaN</td>\n      <td>NaN</td>\n      <td>NaN</td>\n      <td>NaN</td>\n      <td>NaN</td>\n      <td>NaN</td>\n      <td>NaN</td>\n      <td>NaN</td>\n      <td>7</td>\n    </tr>\n    <tr>\n      <td>105780</td>\n      <td>Isin_12</td>\n      <td>Date_13</td>\n      <td>Trader_60</td>\n      <td>1.146667</td>\n      <td>86.000000</td>\n      <td>NaN</td>\n      <td>0.0</td>\n      <td>708.440816</td>\n      <td>0.000000</td>\n      <td>0.000578</td>\n      <td>...</td>\n      <td>NaN</td>\n      <td>NaN</td>\n      <td>NaN</td>\n      <td>NaN</td>\n      <td>NaN</td>\n      <td>NaN</td>\n      <td>NaN</td>\n      <td>NaN</td>\n      <td>NaN</td>\n      <td>16</td>\n    </tr>\n    <tr>\n      <td>105781</td>\n      <td>Isin_27</td>\n      <td>Date_30</td>\n      <td>Trader_60</td>\n      <td>1.179191</td>\n      <td>204.000000</td>\n      <td>NaN</td>\n      <td>0.0</td>\n      <td>384.893976</td>\n      <td>0.000000</td>\n      <td>0.000536</td>\n      <td>...</td>\n      <td>NaN</td>\n      <td>NaN</td>\n      <td>NaN</td>\n      <td>NaN</td>\n      <td>NaN</td>\n      <td>NaN</td>\n      <td>NaN</td>\n      <td>NaN</td>\n      <td>NaN</td>\n      <td>35</td>\n    </tr>\n    <tr>\n      <td>105782</td>\n      <td>Isin_47</td>\n      <td>Date_12</td>\n      <td>Trader_60</td>\n      <td>1.178571</td>\n      <td>66.000000</td>\n      <td>NaN</td>\n      <td>0.0</td>\n      <td>122.636320</td>\n      <td>0.000000</td>\n      <td>0.000689</td>\n      <td>...</td>\n      <td>NaN</td>\n      <td>NaN</td>\n      <td>NaN</td>\n      <td>NaN</td>\n      <td>NaN</td>\n      <td>NaN</td>\n      <td>NaN</td>\n      <td>NaN</td>\n      <td>NaN</td>\n      <td>9</td>\n    </tr>\n  </tbody>\n</table>\n<p>105782 rows × 38 columns</p>\n</div>"
     },
     "metadata": {},
     "execution_count": 29
    }
   ],
   "source": [
    "data_x.copy()"
   ]
  },
  {
   "cell_type": "code",
   "execution_count": 28,
   "metadata": {},
   "outputs": [
    {
     "output_type": "execute_result",
     "data": {
      "text/plain": [
       "               OMR       OTR\n",
       "Index                       \n",
       "1        12.500000  2.272727\n",
       "2        21.571429  1.696629\n",
       "3       118.250000  1.482759\n",
       "4        29.000000  1.705882\n",
       "5         0.000000  1.517730\n",
       "...            ...       ...\n",
       "105778    0.000000  1.150000\n",
       "105779    0.000000  1.352941\n",
       "105780    0.000000  1.146667\n",
       "105781    0.000000  1.179191\n",
       "105782    0.000000  1.178571\n",
       "\n",
       "[105782 rows x 2 columns]"
      ],
      "text/html": "<div>\n<style scoped>\n    .dataframe tbody tr th:only-of-type {\n        vertical-align: middle;\n    }\n\n    .dataframe tbody tr th {\n        vertical-align: top;\n    }\n\n    .dataframe thead th {\n        text-align: right;\n    }\n</style>\n<table border=\"1\" class=\"dataframe\">\n  <thead>\n    <tr style=\"text-align: right;\">\n      <th></th>\n      <th>OMR</th>\n      <th>OTR</th>\n    </tr>\n    <tr>\n      <th>Index</th>\n      <th></th>\n      <th></th>\n    </tr>\n  </thead>\n  <tbody>\n    <tr>\n      <td>1</td>\n      <td>12.500000</td>\n      <td>2.272727</td>\n    </tr>\n    <tr>\n      <td>2</td>\n      <td>21.571429</td>\n      <td>1.696629</td>\n    </tr>\n    <tr>\n      <td>3</td>\n      <td>118.250000</td>\n      <td>1.482759</td>\n    </tr>\n    <tr>\n      <td>4</td>\n      <td>29.000000</td>\n      <td>1.705882</td>\n    </tr>\n    <tr>\n      <td>5</td>\n      <td>0.000000</td>\n      <td>1.517730</td>\n    </tr>\n    <tr>\n      <td>...</td>\n      <td>...</td>\n      <td>...</td>\n    </tr>\n    <tr>\n      <td>105778</td>\n      <td>0.000000</td>\n      <td>1.150000</td>\n    </tr>\n    <tr>\n      <td>105779</td>\n      <td>0.000000</td>\n      <td>1.352941</td>\n    </tr>\n    <tr>\n      <td>105780</td>\n      <td>0.000000</td>\n      <td>1.146667</td>\n    </tr>\n    <tr>\n      <td>105781</td>\n      <td>0.000000</td>\n      <td>1.179191</td>\n    </tr>\n    <tr>\n      <td>105782</td>\n      <td>0.000000</td>\n      <td>1.178571</td>\n    </tr>\n  </tbody>\n</table>\n<p>105782 rows × 2 columns</p>\n</div>"
     },
     "metadata": {},
     "execution_count": 28
    }
   ],
   "source": [
    "data_x.loc[:, ['OMR','OTR']].fillna(0)"
   ]
  },
  {
   "cell_type": "code",
   "execution_count": 7,
   "metadata": {},
   "outputs": [
    {
     "output_type": "execute_result",
     "data": {
      "text/plain": [
       "OMR                0.818498\n",
       "med_dt_TV1_TV3     0.313622\n",
       "mean_dt_TV1_TV3    0.313622\n",
       "min_dt_TV1_TV3     0.313622\n",
       "med_dt_TV1_TV2     0.312334\n",
       "mean_dt_TV1_TV2    0.312334\n",
       "min_dt_TV1_TV2     0.312334\n",
       "med_dt_TV1_TV4     0.311878\n",
       "mean_dt_TV1_TV4    0.311878\n",
       "min_dt_TV1_TV4     0.311878\n",
       "med_dt_TV1         0.041705\n",
       "mean_dt_TV1        0.041705\n",
       "min_dt_TV1         0.041705\n",
       "OTR                0.016167\n",
       "dtype: float64"
      ]
     },
     "metadata": {},
     "execution_count": 7
    }
   ],
   "source": [
    "s = data_x.isna().sum()/data_x.count()\n",
    "s[data_x.isna().any()].sort_values(ascending=False)"
   ]
  },
  {
   "cell_type": "code",
   "execution_count": null,
   "metadata": {},
   "outputs": [],
   "source": [
    "from sklearn.model_selection import GroupKFold\n",
    "\n",
    "X = [0.1, 0.2, 2.2, 2.4, 2.3, 4.55, 5.8, 8.8, 9, 10]\n",
    "y = [\"a\", \"b\", \"b\", \"b\", \"c\", \"c\", \"c\", \"d\", \"d\", \"d\"]\n",
    "groups = [1, 1, 1, 2, 2, 2, 3, 3, 3, 3]\n",
    "\n",
    "gkf = GroupKFold(n_splits=3)\n",
    "for train, test in gkf.split(X, y, groups=groups):\n",
    "    print(\"%s %s\" % (train, test))\n"
   ]
  }
 ]
}