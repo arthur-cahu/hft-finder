{
 "metadata": {
  "language_info": {
   "codemirror_mode": {
    "name": "ipython",
    "version": 3
   },
   "file_extension": ".py",
   "mimetype": "text/x-python",
   "name": "python",
   "nbconvert_exporter": "python",
   "pygments_lexer": "ipython3",
   "version": "3.8.8-final"
  },
  "orig_nbformat": 2,
  "kernelspec": {
   "name": "python3",
   "display_name": "Python 3",
   "language": "python"
  }
 },
 "nbformat": 4,
 "nbformat_minor": 2,
 "cells": [
  {
   "cell_type": "code",
   "execution_count": 1,
   "metadata": {},
   "outputs": [],
   "source": [
    "%matplotlib inline\n",
    "\n",
    "import numpy as np\n",
    "import matplotlib.pyplot as plt\n",
    "import pandas as pd\n",
    "from loading import load_data, load_test\n",
    "from preprocessing import preprocess_x, preprocess_y"
   ]
  },
  {
   "cell_type": "code",
   "execution_count": 2,
   "metadata": {},
   "outputs": [],
   "source": [
    "data_x_orig, data_y_orig = load_data() # loads from \".\\data\" by default\n",
    "test_x_orig = load_test() # this is for submission purposes"
   ]
  },
  {
   "cell_type": "code",
   "execution_count": 3,
   "metadata": {},
   "outputs": [
    {
     "output_type": "execute_result",
     "data": {
      "text/plain": [
       "OMR                0.818498\n",
       "min_dt_TV1_TV3     0.313622\n",
       "mean_dt_TV1_TV3    0.313622\n",
       "med_dt_TV1_TV3     0.313622\n",
       "min_dt_TV1_TV2     0.312334\n",
       "mean_dt_TV1_TV2    0.312334\n",
       "med_dt_TV1_TV2     0.312334\n",
       "min_dt_TV1_TV4     0.311878\n",
       "mean_dt_TV1_TV4    0.311878\n",
       "med_dt_TV1_TV4     0.311878\n",
       "min_dt_TV1         0.041705\n",
       "mean_dt_TV1        0.041705\n",
       "med_dt_TV1         0.041705\n",
       "OTR                0.016167\n",
       "dtype: float64"
      ]
     },
     "metadata": {},
     "execution_count": 3
    }
   ],
   "source": [
    "# look at missing data\n",
    "s = data_x_orig.isna().sum()/data_x_orig.count()\n",
    "s[data_x_orig.isna().any()].sort_values(ascending=False)"
   ]
  },
  {
   "cell_type": "code",
   "execution_count": 4,
   "metadata": {},
   "outputs": [],
   "source": [
    "data_x = preprocess_x(data_x_orig)\n",
    "data_y = preprocess_y(data_x_orig, data_y_orig)"
   ]
  },
  {
   "cell_type": "code",
   "execution_count": 5,
   "metadata": {},
   "outputs": [],
   "source": [
    "# give ids to traders\n",
    "from sklearn.preprocessing import LabelEncoder\n",
    "\n",
    "trader_encoder = LabelEncoder()\n",
    "groups = trader_encoder.fit_transform(data_x_orig[\"Trader\"].to_numpy())"
   ]
  },
  {
   "cell_type": "code",
   "execution_count": 6,
   "metadata": {},
   "outputs": [],
   "source": [
    "# send everything to numpy arrays\n",
    "X = data_x.to_numpy()\n",
    "y = data_y.to_numpy()"
   ]
  },
  {
   "source": [
    "## Model Selection"
   ],
   "cell_type": "markdown",
   "metadata": {}
  },
  {
   "cell_type": "code",
   "execution_count": 7,
   "metadata": {},
   "outputs": [],
   "source": [
    "from scipy import stats\n",
    "from sklearn.neighbors import KNeighborsClassifier\n",
    "from sklearn.ensemble import ExtraTreesClassifier\n",
    "from sklearn.linear_model import SGDClassifier\n",
    "\n",
    "# build a list of dicts that says which classifier heads to test, and what params to test on them\n",
    "params = [\n",
    "    {\n",
    "        \"clf\": [KNeighborsClassifier()], \n",
    "        \"clf__n_neighbors\": stats.randint(1, 16)\n",
    "    },\n",
    "    {\n",
    "        \"clf\": [ExtraTreesClassifier(max_features=\"sqrt\")],\n",
    "        \"clf__n_estimators\": stats.loguniform(50,200)\n",
    "    },\n",
    "    {\n",
    "        \"clf\": [SGDClassifier()],\n",
    "        \"clf__class_weight\": [None, \"balanced\"]\n",
    "    }\n",
    "]"
   ]
  },
  {
   "cell_type": "code",
   "execution_count": 8,
   "metadata": {},
   "outputs": [],
   "source": [
    "from sklearn.model_selection import GroupKFold, RandomizedSearchCV\n",
    "from sklearn.pipeline import Pipeline\n",
    "\n",
    "from sklearn.preprocessing import StandardScaler\n",
    "from sklearn.decomposition import PCA\n",
    "\n",
    "# these estimators will be appled sequentially to the data:\n",
    "pipe = Pipeline([\n",
    "    (\"standardisation\", StandardScaler()),\n",
    "    (\"reduce_dim\", PCA(n_components='mle')),\n",
    "    (\"clf\", SGDClassifier())\n",
    "])"
   ]
  },
  {
   "cell_type": "code",
   "execution_count": 17,
   "metadata": {},
   "outputs": [
    {
     "output_type": "stream",
     "name": "stdout",
     "text": [
      "Fitting 8 folds for each of 100 candidates, totalling 800 fits\n",
      "[Parallel(n_jobs=12)]: Using backend LokyBackend with 12 concurrent workers.\n",
      "[Parallel(n_jobs=12)]: Done  17 tasks      | elapsed:   34.0s\n",
      "[Parallel(n_jobs=12)]: Done 138 tasks      | elapsed:  1.7min\n",
      "[Parallel(n_jobs=12)]: Done 341 tasks      | elapsed:  3.9min\n",
      "[Parallel(n_jobs=12)]: Done 624 tasks      | elapsed:  8.5min\n",
      "[Parallel(n_jobs=12)]: Done 800 out of 800 | elapsed: 10.7min finished\n"
     ]
    },
    {
     "output_type": "execute_result",
     "data": {
      "text/plain": [
       "0.7240291157494414"
      ]
     },
     "metadata": {},
     "execution_count": 17
    }
   ],
   "source": [
    "#split dataset into training and validation by trader\n",
    "gkf = GroupKFold(n_splits=8).split(X, y, groups)\n",
    "\n",
    "search = RandomizedSearchCV(\n",
    "    n_iter=100,\n",
    "    cv=gkf,\n",
    "    estimator=pipe,\n",
    "    param_distributions=params,\n",
    "    scoring=\"balanced_accuracy\", # TODO is this the best score ? Shouldn't we implement our own method ?\n",
    "    n_jobs=12,\n",
    "    pre_dispatch=\"2*n_jobs\",\n",
    "    verbose=2\n",
    ")\n",
    "\n",
    "search.fit(X, y)\n",
    "search.best_score_"
   ]
  },
  {
   "cell_type": "code",
   "execution_count": 19,
   "metadata": {},
   "outputs": [
    {
     "output_type": "execute_result",
     "data": {
      "text/plain": [
       "{'clf': SGDClassifier(class_weight='balanced'),\n",
       " 'clf__class_weight': 'balanced'}"
      ]
     },
     "metadata": {},
     "execution_count": 19
    }
   ],
   "source": [
    "search.best_params_"
   ]
  },
  {
   "cell_type": "code",
   "execution_count": null,
   "metadata": {},
   "outputs": [],
   "source": []
  }
 ]
}